{
 "cells": [
  {
   "metadata": {},
   "cell_type": "markdown",
   "source": [
    "## HSI-BERT: Hyperspectral Image Classification  Using the Bidirectional Encoder Representation  From Transformers\n",
    "未放出源码\n",
    "\n",
    "> 2020年出版, 好像那时候还没出现vit, 所以作者用的bert很强了\n",
    "\n",
    "该模型的整体框架较为简单:如下\n",
    "\n",
    "嵌入和正常的一样\n",
    "\n",
    "![](https://image.chiullian.cn/img/202411021610510.png)\n",
    "\n",
    "个人详解(创新点):\n",
    "> 这边不像vit分割成*固定的单一的patch* 而是 *patch的形状可以有很多*.这里采用的\"联合区域的训练\"{如下图6}(对许多*不同形状*小块进行一起训练,我认为是重要的一点),(这里也是对每个像素进行分类, 但是取patch的方式变成了好几种联合训练,比如, 画个圆等等如下图, \"***总结就是:一个点像素的分类由 小区域的方块,圆,交叉线等等联合决定的*** ) \n",
    "> 可以把每个区域块的点变成一个序列, 这样每个区域就像是传统文本bert的一段话\n",
    "> 例如\"I am fine\", 这句话的每个单词就对应本模型的一个像素\n",
    "\n",
    "\n",
    "![](https://image.chiullian.cn/img/202411021619085.png)\n",
    "\n",
    "附: 模型图是一个像素一个像素进行分类的,也就是对一个像素采不同形状的patch一起训练\n"
   ],
   "id": "325ac1a5b9a60494"
  },
  {
   "cell_type": "code",
   "execution_count": null,
   "id": "initial_id",
   "metadata": {
    "collapsed": true
   },
   "outputs": [],
   "source": [
    ""
   ]
  }
 ],
 "metadata": {
  "kernelspec": {
   "display_name": "Python 3",
   "language": "python",
   "name": "python3"
  },
  "language_info": {
   "codemirror_mode": {
    "name": "ipython",
    "version": 2
   },
   "file_extension": ".py",
   "mimetype": "text/x-python",
   "name": "python",
   "nbconvert_exporter": "python",
   "pygments_lexer": "ipython2",
   "version": "2.7.6"
  }
 },
 "nbformat": 4,
 "nbformat_minor": 5
}
