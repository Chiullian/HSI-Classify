{
 "cells": [
  {
   "metadata": {},
   "cell_type": "markdown",
   "source": [
    "## SSRN 空间残差网络\n",
    "\n",
    "> Spectral–Spatial Residual Network for Hyperspectral Image Classification: A 3-D Deep Learning Framework\n",
    "> 源码地址:Codes are released at: https://github.com/zilongzhong/SSRN \n",
    "\n",
    "\n"
   ],
   "id": "fb8e5c5181f58873"
  },
  {
   "cell_type": "code",
   "execution_count": null,
   "id": "initial_id",
   "metadata": {
    "collapsed": true
   },
   "outputs": [],
   "source": [
    ""
   ]
  }
 ],
 "metadata": {
  "kernelspec": {
   "display_name": "Python 3",
   "language": "python",
   "name": "python3"
  },
  "language_info": {
   "codemirror_mode": {
    "name": "ipython",
    "version": 2
   },
   "file_extension": ".py",
   "mimetype": "text/x-python",
   "name": "python",
   "nbconvert_exporter": "python",
   "pygments_lexer": "ipython2",
   "version": "2.7.6"
  }
 },
 "nbformat": 4,
 "nbformat_minor": 5
}
