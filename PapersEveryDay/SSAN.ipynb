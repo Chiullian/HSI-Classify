{
 "cells": [
  {
   "metadata": {},
   "cell_type": "markdown",
   "source": [
    "## Spectral-Spatial Attention Networks for Hyperspectral Image Classification\n",
    "> Xiaoguang Mei 1,2 , Erting Pan 1, Yong Ma 1,2, Xiaobing Dai 1,2, Jun Huang 1,2, Fan Fan 1,2,*,Qinglei Du 1, Hong Zheng 1 and Jiayi Ma 1,2,3\n",
    "\n",
    "论文简述:\n",
    " 使用了模型分为两大模块: 1. 双向的RNN深度神经网络进行优化. 2.卷积神经网络\n",
    " \n",
    "整体的结构图如下:\n",
    "\n",
    "![](https://image.chiullian.cn/img/202410231644747.png)\n",
    "\n",
    " 大体的优化思路, 因为光谱是具有序列性的, 而RNN是具有非常好的捕捉序列信息的一个神经网络, 所以本文提出使用双向循环神经网络Bi-RNN来捕捉光谱的序列特征.\n",
    " \n",
    "### 双向神经网络的具体模型如下:\n",
    "> 拥有非常强的能力去捕捉光谱特征的序列性\n",
    " \n",
    "![](https://image.chiullian.cn/img/202410231649707.png)\n",
    "\n",
    "具体如何抓取的如下图:\n",
    "\n",
    "![](https://image.chiullian.cn/img/202410231651416.png)\n",
    "> 解释: 就是把一个像素点的所有光谱维度全部取出来, 会有一个光谱曲线, 该论文对这个曲线进行双向循环神经网络,来抽取该像素点的序列特性, 此处还引入啊Attention, 即训练出一个矩阵(权重矩阵), 来计算两两光谱中间的相关性., 然后最后会得出一个向量y 也就是我们该点判断的种类中间向量\n",
    "\n",
    "### 卷积神经网络\n",
    "\n",
    "该模块的概览:\n",
    "\n",
    "![](https://image.chiullian.cn/img/202410231659092.png)\n",
    "\n",
    "> 首先他对图片进行了降维的操作(这里压到的三维),对于每一个像素, 会抽取以该像素点为中心的patch, 然后对其分类, 本文也是使用到了注意力机制的思维, 然后根据如下公式计算出了, 权重矩阵 a, 然后空间注意力用与特征图大小相同的权值矩阵a表示，a中的元素aij表示相邻区域中位于（i, j）处的c个PCA通道组成的像素向量Sij的注意力权重, 然后用权重矩阵a就可以得到新的图patch, 然后进行一系列的卷积操作获取图形的空间特征.\n",
    "\n",
    "![](https://image.chiullian.cn/img/202410231703957.png)\n",
    "\n",
    "### 模块融合\n",
    "\n",
    "![](https://image.chiullian.cn/img/202410231706814.png)\n",
    "\n",
    "两个模块会得出两个向量, 然后concat拼接到一起后进行全连接层然后分类\n",
    "\n",
    "### 代码实现稍后有时间补一下\n",
    "\n"
   ],
   "id": "a62245ed3789139f"
  },
  {
   "metadata": {},
   "cell_type": "code",
   "outputs": [],
   "execution_count": null,
   "source": "",
   "id": "c927255022d03925"
  }
 ],
 "metadata": {
  "kernelspec": {
   "display_name": "Python 3",
   "language": "python",
   "name": "python3"
  },
  "language_info": {
   "codemirror_mode": {
    "name": "ipython",
    "version": 2
   },
   "file_extension": ".py",
   "mimetype": "text/x-python",
   "name": "python",
   "nbconvert_exporter": "python",
   "pygments_lexer": "ipython2",
   "version": "2.7.6"
  }
 },
 "nbformat": 4,
 "nbformat_minor": 5
}
