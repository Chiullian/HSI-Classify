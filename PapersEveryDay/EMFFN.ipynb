{
 "cells": [
  {
   "metadata": {},
   "cell_type": "markdown",
   "source": [
    "## EMFFN network\n",
    "> Enhanced Multiscale Feature Fusion Network for HSI Classification (HSI分类的增强型多尺度特征融合网络)\n",
    "\n",
    "\n",
    "优化思路:\n",
    "> 主体是两个模块, 还是对光谱维度进行特征抽取, 还有一个模块是对空间采用并行的空间特征抽取(多尺度融合是分类的关键)\n",
    "\n",
    "大体框架图:\n",
    "\n",
    "![](https://image.chiullian.cn/img/202410251132824.png)\n",
    "\n",
    "### CDCN 模块 对光谱维度进行特征抽取\n",
    "\n",
    "概览图如下:\n",
    "\n",
    "![](https://image.chiullian.cn/img/202410251254828.png)\n",
    "\n",
    "这里采用了扩张卷积操作, 目的是用来获取更大的感受野, (对长为1 * p 的序列进行扩张卷积)\n",
    "\n",
    "每一个扩张卷积块的结构如下\n",
    "\n",
    "![](https://image.chiullian.cn/img/202410251324161.png)\n",
    "\n",
    "然后就是不能直接全连接层, 因为还要学习每个通道的重要性, 所以加了一个sigmod函数来学习通道的权重, 增加特征的映射.\n",
    "\n",
    "### PMN 空间特征的抽取层\n",
    "\n",
    "整体的结构图如下:\n",
    "\n",
    "![](https://image.chiullian.cn/img/202410251341594.png)\n",
    "\n",
    "\n",
    "这里采用了空间特征融合的抽取方法，非常的有效，采用三个不同视野(7x7, 5x5, 3x3)的卷积核 并行的对图形进行特征融合，在每一步卷积后把大 而且是深度的融合，不像其他的论文中只在末尾段进行特征融合.在低级语义层是进行特征融合是非常有助于分类的精度的, 大视野采用较少的特征通道, 小视野的特征(细看下来)则会多点(这一点很符合现实的特征). 这里的融合的方式是使用小视野和大视野进行拼接学习, 把大视野的输出送到较小的视野上(理由,在大视野的基础上小视野能更好的表现具体特征(也很符合人的生理))\n",
    "\n",
    "\n",
    "### PMN的特征融合\n",
    "\n",
    "融合的结构:\n",
    "\n",
    "![](https://image.chiullian.cn/img/202410251346226.png)\n",
    "\n",
    "像光谱的特征抽取一样这里也不能用直接的拼接方式, 也是采用(A1, A2, A3) sigmod计算出 α 权值向量(下图). 然后乘以 A1 + A2 + A3 拼接到一起得到的经过卷重优化的结果, \n",
    "\n",
    "![](https://image.chiullian.cn/img/202410251348404.png)\n",
    "\n",
    "\n",
    "> 最后与光谱层连接在一起进行分类任务\n",
    "\n",
    "\n",
    "### 自定义损失函数 待学习******** 标记一下\n",
    "\n",
    "辅助损失函数? , 待学习\n"
   ],
   "id": "5c50548283e877d7"
  },
  {
   "metadata": {},
   "cell_type": "markdown",
   "source": "",
   "id": "2502f3acc44ec0aa"
  }
 ],
 "metadata": {
  "kernelspec": {
   "display_name": "Python 3",
   "language": "python",
   "name": "python3"
  },
  "language_info": {
   "codemirror_mode": {
    "name": "ipython",
    "version": 2
   },
   "file_extension": ".py",
   "mimetype": "text/x-python",
   "name": "python",
   "nbconvert_exporter": "python",
   "pygments_lexer": "ipython2",
   "version": "2.7.6"
  }
 },
 "nbformat": 4,
 "nbformat_minor": 5
}
