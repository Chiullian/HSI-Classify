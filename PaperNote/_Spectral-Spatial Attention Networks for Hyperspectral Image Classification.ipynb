{
 "cells": [
  {
   "metadata": {},
   "cell_type": "markdown",
   "source": [
    "## Spectral-Spatial Attention Networks for Hyperspectral Image Classification\n",
    "> Xiaoguang Mei 1,2 , Erting Pan 1, Yong Ma 1,2, Xiaobing Dai 1,2, Jun Huang 1,2, Fan Fan 1,2,*,Qinglei Du 1, Hong Zheng 1 and Jiayi Ma 1,2,3\n",
    "\n",
    "论文简述:\n"
   ],
   "id": "a62245ed3789139f"
  },
  {
   "metadata": {},
   "cell_type": "code",
   "outputs": [],
   "execution_count": null,
   "source": "",
   "id": "c927255022d03925"
  }
 ],
 "metadata": {
  "kernelspec": {
   "display_name": "Python 3",
   "language": "python",
   "name": "python3"
  },
  "language_info": {
   "codemirror_mode": {
    "name": "ipython",
    "version": 2
   },
   "file_extension": ".py",
   "mimetype": "text/x-python",
   "name": "python",
   "nbconvert_exporter": "python",
   "pygments_lexer": "ipython2",
   "version": "2.7.6"
  }
 },
 "nbformat": 4,
 "nbformat_minor": 5
}
