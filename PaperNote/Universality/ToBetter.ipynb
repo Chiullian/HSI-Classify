{
 "cells": [
  {
   "metadata": {},
   "cell_type": "markdown",
   "source": [
    "### 标记一点常用的好用的函数吧\n",
    "#### rearrange()\n",
    "1. (非常灵活的)更改张量的维度 rearrange(X, 'h w c -> (h w) c')    \n",
    "需要头文件 `from einops import rearrange`          [必备]"
   ],
   "id": "2c0a0b50d75e6af5"
  },
  {
   "metadata": {},
   "cell_type": "markdown",
   "source": [
    "#### 爱因斯坦求和约定\n",
    "(非常灵活的对矩阵进行计算操作) \n",
    "\n",
    "`torch.einsum('a b c, a c d -> a b d', x, y)` # 即固定第一维剩下做矩阵乘法\n",
    "\n",
    "`torch.einsum('a b, b d -> a d', x, y)` # 这样就是做简单矩阵乘法 \n",
    "\n",
    "`torch.einsum('a b, a b -> a b', x, y)`  # 这样就是做内积,对应元素相乘\n",
    "\n",
    "`torch.einsum('b h n d, b h m d -> b h n m', x, y)` # X * Y的后两维转置\n",
    "上面可以简写成 `torch.einsum('... a b, ... c b -> ... a c', x, y)` 太优雅了~~~~~~~~~~\n",
    "`...`表示前面的所以维度\n",
    "!!!!!!!!!!!!!!!!!!!!!太强了\n",
    "具体更多操作看下图:\n",
    "A、B均为2D矩阵\n",
    "\n",
    "![](https://image.chiullian.cn/img/202410111301387.png)"
   ],
   "id": "59918b6d2e9bb4f"
  },
  {
   "metadata": {},
   "cell_type": "markdown",
   "source": [
    "#### 还有就是关于内存的问题\n",
    "> 在pytorch中，只有很少几个操作是不改变tensor的内容本身，而只是重新定义下标与元素的对应关系的。换句话说，这种操作不进行数据拷贝和数据的改变，变的是元数据。 比如直接的=符号是共用一片地址的\n",
    "\n",
    "\n",
    "常见会改变元数据的操作是：\n",
    "* narrow()\n",
    "* view()\n",
    "* expand()\n",
    "* transpose() \n",
    "\n",
    "##### contiguous() \n",
    "当调用contiguous()时，会强制拷贝一份tensor，让它的布局和从头创建的一模一样，但是两个tensor完全没有联系"
   ],
   "id": "f64be54429fa3399"
  },
  {
   "cell_type": "code",
   "execution_count": null,
   "id": "initial_id",
   "metadata": {
    "collapsed": true
   },
   "outputs": [],
   "source": ""
  }
 ],
 "metadata": {
  "kernelspec": {
   "display_name": "Python 3",
   "language": "python",
   "name": "python3"
  },
  "language_info": {
   "codemirror_mode": {
    "name": "ipython",
    "version": 2
   },
   "file_extension": ".py",
   "mimetype": "text/x-python",
   "name": "python",
   "nbconvert_exporter": "python",
   "pygments_lexer": "ipython2",
   "version": "2.7.6"
  }
 },
 "nbformat": 4,
 "nbformat_minor": 5
}
