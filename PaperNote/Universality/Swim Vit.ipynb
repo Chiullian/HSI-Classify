{
 "cells": [
  {
   "metadata": {},
   "cell_type": "markdown",
   "source": [
    "## Swim vit\n",
    "\n",
    "他的精髓在于优化了 传统`vit`的模型参数复杂度\n",
    "> 大体的理解, 一个基于层级去优化的Transformer, Patch Merging (对不同的 patch 进行合并操作, 也就是增加的当前块的感受野), 对每个小Patch 块都单独进行一遍 Vision Transformer 操作, 所以就会有问题了,每个 patch 之间的注意力都是独立的了, 要怎么联系起来呢, 就引入了移动窗口的注意力 \n",
    "\n",
    "分层的概览:\n",
    "\n",
    "![](https://image.chiullian.cn/img/202410152042023.png)\n",
    "\n",
    "整体的结构图:\n",
    "\n",
    "![](https://image.chiullian.cn/img/202410152033790.png)\n",
    "\n",
    "Patch Merging 层的操作:\n",
    "\n",
    "![](https://image.chiullian.cn/img/202410152052319.png)\n",
    "\n",
    "\n",
    "> 重要的一点, 移动窗口的自注意力机制\n",
    "\n",
    ":移动窗口的核心思想\n",
    "\n",
    "![](https://image.chiullian.cn/img/202410152141715.png)\n",
    "\n",
    "> patch_size是4x4, 由于展平后是3136x96的大小, 而Vit中只有196xdim的大小, 所以3136太长了不能接受,所以在划分窗口,每个窗口包括7x7个patch (注意这还不是最小的计算单元, 因为最小的还是里面的[mxmx3]的小patch[已经被映射成长为96的一维向量了])win_patch,所以每个方向就有8个窗口, 我们的目标就是对每个小黄框里面都分别做一遍注意力(也就是每个win_patch里做), 所以每个注意力计算的序列长度都是7 X 7 = 49 的序列,\n",
    "> 就会有8 * 8 = 64次注意力, \n",
    "\n",
    "![](https://image.chiullian.cn/img/202410161848019.png)\n",
    "\n",
    "\n",
    "![](https://image.chiullian.cn/img/202410152206277.png)\n",
    "虽然上图看着像是"
   ],
   "id": "dc7218b5a87b5661"
  },
  {
   "metadata": {},
   "cell_type": "markdown",
   "source": [
    "\n",
    "#### Patch Merging 的代码\n",
    "\n",
    "![](https://image.chiullian.cn/img/202410161534674.png)\n",
    "\n"
   ],
   "id": "bf28d69a292bcd41"
  },
  {
   "metadata": {},
   "cell_type": "code",
   "outputs": [],
   "execution_count": null,
   "source": "",
   "id": "1b433969524e77bf"
  },
  {
   "cell_type": "code",
   "execution_count": null,
   "id": "initial_id",
   "metadata": {
    "collapsed": true
   },
   "outputs": [],
   "source": ""
  }
 ],
 "metadata": {
  "kernelspec": {
   "display_name": "Python 3",
   "language": "python",
   "name": "python3"
  },
  "language_info": {
   "codemirror_mode": {
    "name": "ipython",
    "version": 2
   },
   "file_extension": ".py",
   "mimetype": "text/x-python",
   "name": "python",
   "nbconvert_exporter": "python",
   "pygments_lexer": "ipython2",
   "version": "2.7.6"
  }
 },
 "nbformat": 4,
 "nbformat_minor": 5
}
