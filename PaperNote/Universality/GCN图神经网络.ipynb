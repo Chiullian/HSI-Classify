{
 "cells": [
  {
   "metadata": {},
   "cell_type": "markdown",
   "source": [
    "# GCN\n",
    "\n",
    "> 调参: 层数, Embedding有多大, 汇聚用什么操作, 怎么做信息的传递. \n",
    "\n",
    "\n",
    "![](https://image.chiullian.cn/img/202410311556851.png)\n",
    "\n",
    "\n"
   ],
   "id": "8b2929015858df44"
  },
  {
   "cell_type": "code",
   "execution_count": null,
   "id": "initial_id",
   "metadata": {
    "collapsed": true
   },
   "outputs": [],
   "source": [
    ""
   ]
  }
 ],
 "metadata": {
  "kernelspec": {
   "display_name": "Python 3",
   "language": "python",
   "name": "python3"
  },
  "language_info": {
   "codemirror_mode": {
    "name": "ipython",
    "version": 2
   },
   "file_extension": ".py",
   "mimetype": "text/x-python",
   "name": "python",
   "nbconvert_exporter": "python",
   "pygments_lexer": "ipython2",
   "version": "2.7.6"
  }
 },
 "nbformat": 4,
 "nbformat_minor": 5
}
