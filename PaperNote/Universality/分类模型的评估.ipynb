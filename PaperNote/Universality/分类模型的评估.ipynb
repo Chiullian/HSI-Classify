{
 "cells": [
  {
   "metadata": {},
   "cell_type": "markdown",
   "source": [
    "# 分类模型评估概览\n",
    "\n",
    "## 首先是混淆矩阵（Confusion Matrix）\n",
    "\n",
    "![](https://image.chiullian.cn/img/202410252135502.jpg)\n",
    "\n",
    "* TP（True Positive）：被正确预测的正例。即该数据的真实值为正例，预测值也为正例的情况；\n",
    "* TN（True Negative）：被正确预测的反例。即该数据的真实值为反例，预测值也为反例的情况;\n",
    "* FP（False Positive）：被错误预测的正例。即该数据的真实值为反例，但被错误预测成了正例的情况；\n",
    "* FN（False Negative）：被错误预测的反例。即该数据的真实值为正例，但被错误预测成了反例的情况。\n",
    "\n",
    "### 准确率 (Accuracy)\n",
    "\n",
    "> 分类正确的数量占分类总数量的比例准确率（Accuracy） \n",
    "> 分类正确的样本有两部分组成: 分别是预测为正且真实为正的情况，即TP；还有是预测为负且真实也为负的情况，即TN。\n",
    "\n",
    "所以准确率计算的公式为`(TP + TN) / (TP + TN + FP + FN)`\n",
    "\n",
    "![](https://image.chiullian.cn/img/202410252155212.png)\n",
    "\n",
    "### 精确率（Precision）\n",
    "\n",
    "又叫查准率，表示(预测结果为正例)的样本中(实际为正样本)的比例。\n",
    "\n",
    "计算公式: TP / (TP + FP)\n",
    "\n",
    "![](https://image.chiullian.cn/img/202410252154481.png)\n",
    "\n",
    "\n",
    "### 召回率\n",
    "\n",
    "召回率（Recall）又被称为查全率，表示预测结果为正样本中实际正样本数量占全样本中正样本的比例。\n",
    "\n",
    "计算公式: TP / (TP + FN)\n",
    "\n",
    "![](https://image.chiullian.cn/img/202410252153201.png)\n",
    "\n",
    "## F1 分数（F1 Score）\n",
    "\n",
    "![](https://image.chiullian.cn/img/202410252157554.png)\n",
    "\n",
    "\n",
    "## 整体精度 \n",
    "\n",
    "![](https://image.chiullian.cn/img/202410252159225.png)\n",
    "\n",
    "## 平均精度\n",
    "\n",
    "![](https://image.chiullian.cn/img/202410252200974.png)\n",
    "\n",
    "## Kappa 精度\n",
    "\n",
    "![](https://image.chiullian.cn/img/202410252202283.png)"
   ],
   "id": "85c20b5cbe65ceee"
  },
  {
   "metadata": {},
   "cell_type": "markdown",
   "source": "",
   "id": "28803080c3732f0c"
  },
  {
   "metadata": {},
   "cell_type": "markdown",
   "source": "",
   "id": "c6a1d18dc3bce378"
  },
  {
   "metadata": {},
   "cell_type": "markdown",
   "source": "",
   "id": "1f83c4f376f43984"
  },
  {
   "cell_type": "code",
   "execution_count": null,
   "id": "initial_id",
   "metadata": {
    "collapsed": true
   },
   "outputs": [],
   "source": [
    ""
   ]
  }
 ],
 "metadata": {
  "kernelspec": {
   "display_name": "Python 3",
   "language": "python",
   "name": "python3"
  },
  "language_info": {
   "codemirror_mode": {
    "name": "ipython",
    "version": 2
   },
   "file_extension": ".py",
   "mimetype": "text/x-python",
   "name": "python",
   "nbconvert_exporter": "python",
   "pygments_lexer": "ipython2",
   "version": "2.7.6"
  }
 },
 "nbformat": 4,
 "nbformat_minor": 5
}
