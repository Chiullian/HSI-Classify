{
 "cells": [
  {
   "metadata": {},
   "cell_type": "markdown",
   "source": [
    "## Deep Vision transformer\n",
    "\n",
    "当注意力缩放到很深的时候会有注意力崩溃的迹象, 随着变压器的深入，注意图逐渐变得相似，甚至在某些层之后变得非常相似。换句话说，在深度ViT模型的顶层，特征映射往往是相同的。这一事实表明，在更深层的vit中，自注意机制无法学习到有效的概念来进行表征学习，从而阻碍了模型获得预期的性能增益。\n",
    "\n",
    "注意力崩溃: \n",
    "* 注意力过度集中（Attention Concentration）在多头注意力机制中，注意力权重可能过度集中于某个特定的输入位置，导致模型无法充分利用其他输入的特征。这样，模型失去了对全局上下文的理解能力，变得对局部信息过于敏感。\n",
    "\n",
    "* 注意力过度分散 （Attention Diffusion）： 另一种情况是注意力权重变得过于平均化或分散，模型无法聚焦在任何重要的输入特征上。所有输入的权重相似，这导致模型没有能力明确区分出重要的上下文信息，结果是模型的性能下降。\n",
    "\n",
    "### 简述一下 CNN 和 注意力的 本质区别\n",
    "\n",
    "#### 信息聚焦的不同方式\n",
    "* CNN：卷积操作通过固定大小的卷积核在局部区域内提取特征，随着网络的加深，卷积层逐步聚合从局部到全局的特征。每一层提取的特征都是从上一层的局部信息进行汇总，模型在深层依旧能够保持对细节和局部信息的关注。卷积核大小的固定使得信息传递具有一定的局限性，但也能有效保证局部相关性不丢失。\n",
    "\n",
    "* 注意力机制：自注意力机制通过计算所有输入元素之间的关系，决定每个输入元素与其他元素的依赖关系。这种机制允许模型捕捉全局信息，但当模型层数过深时，注意力机制容易陷入“注意力崩溃”（如过度集中或分散）的问题。因为每一层的注意力会不断传递全局的权重分布，深层次可能导致信息过度模糊或失去区分度，导致模型难以继续有效学习。"
   ],
   "id": "792d8ad0e2a5f160"
  },
  {
   "metadata": {},
   "cell_type": "markdown",
   "source": "",
   "id": "ca2f61062b8712a9"
  },
  {
   "cell_type": "code",
   "execution_count": null,
   "id": "initial_id",
   "metadata": {
    "collapsed": true
   },
   "outputs": [],
   "source": ""
  }
 ],
 "metadata": {
  "kernelspec": {
   "display_name": "Python 3",
   "language": "python",
   "name": "python3"
  },
  "language_info": {
   "codemirror_mode": {
    "name": "ipython",
    "version": 2
   },
   "file_extension": ".py",
   "mimetype": "text/x-python",
   "name": "python",
   "nbconvert_exporter": "python",
   "pygments_lexer": "ipython2",
   "version": "2.7.6"
  }
 },
 "nbformat": 4,
 "nbformat_minor": 5
}
